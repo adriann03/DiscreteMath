{
 "cells": [
  {
   "cell_type": "code",
   "execution_count": 2,
   "id": "196663d4",
   "metadata": {},
   "outputs": [
    {
     "name": "stdout",
     "output_type": "stream",
     "text": [
      "n = 0, Σ 1/n = 0\n",
      "n = 1, Σ 1/n = 1.0\n",
      "n = 2, Σ 1/n = 1.5\n",
      "n = 3, Σ 1/n = 1.8333333333333333\n",
      "n = 4, Σ 1/n = 2.083333333333333\n",
      "n = 5, Σ 1/n = 2.283333333333333\n",
      "n = 6, Σ 1/n = 2.4499999999999997\n",
      "n = 7, Σ 1/n = 2.5928571428571425\n",
      "n = 8, Σ 1/n = 2.7178571428571425\n",
      "n = 9, Σ 1/n = 2.8289682539682537\n",
      "n = 10, Σ 1/n = 2.9289682539682538\n"
     ]
    }
   ],
   "source": [
    "def reciprocal_sum(n):\n",
    "    sum = 0\n",
    "    for i in range(1, n+1):\n",
    "        sum += 1/i\n",
    "    return sum\n",
    "for i in range(0, 11):\n",
    "    print(f\"n = {i}, Σ 1/n = {reciprocal_sum(i)}\")"
   ]
  },
  {
   "cell_type": "markdown",
   "id": "ea3e815d",
   "metadata": {},
   "source": [
    "Masalah: nilai $n$ yang tertinggi yang memenuhi $\\sum_{i=1}^{n} \\frac{1}{i} < a$"
   ]
  },
  {
   "cell_type": "code",
   "execution_count": 5,
   "id": "793aa642",
   "metadata": {},
   "outputs": [
    {
     "name": "stdout",
     "output_type": "stream",
     "text": [
      "a: 2, Max n: 3\n",
      "a: 3, Max n: 10\n",
      "a: 4, Max n: 30\n",
      "a: 5, Max n: 82\n",
      "a: 6, Max n: 226\n",
      "a: 7, Max n: 615\n",
      "a: 8, Max n: 1673\n",
      "a: 9, Max n: 4549\n",
      "a: 10, Max n: 12366\n",
      "a: 11, Max n: 33616\n"
     ]
    }
   ],
   "source": [
    "def get_max_n_of_recip_sum_before(threshold):\n",
    "    # Σ 1/n < threshold\n",
    "    n = 1\n",
    "    while True:\n",
    "        if reciprocal_sum(n+1) >= threshold:\n",
    "            return n\n",
    "        else: n += 1\n",
    "        \n",
    "for i in range(2, 10+2):\n",
    "    print(f\"a: {i}, Max n: {get_max_n_of_recip_sum_before(i)}\")"
   ]
  },
  {
   "cell_type": "markdown",
   "id": "ddeb8b76",
   "metadata": {},
   "source": [
    "Butuh 21.0 - 23.0 detik untuk menghitung karena nilai maks $n$ nya naik secara eksponensial.\n",
    "\n",
    "\n",
    "$$\\sum_{i=1}^{n} \\frac{1}{i} \\approx \\ln(n) + \\gamma$$\n",
    "\n",
    "\n",
    "Dan untuk ambang $a$:\n",
    "\n",
    "\n",
    "$$a \\approx \\ln(n) \\implies n \\approx e^{a}$$\n",
    "\n",
    "\n",
    "Interpretasi: setiap pertambahan nilai $a$ dengan 1 akan mengalikan nilai $n$ maksimum dengan kurang lebih $e$  (2.718281828)."
   ]
  }
 ],
 "metadata": {
  "kernelspec": {
   "display_name": "Python 3",
   "language": "python",
   "name": "python3"
  },
  "language_info": {
   "codemirror_mode": {
    "name": "ipython",
    "version": 3
   },
   "file_extension": ".py",
   "mimetype": "text/x-python",
   "name": "python",
   "nbconvert_exporter": "python",
   "pygments_lexer": "ipython3",
   "version": "3.13.2"
  }
 },
 "nbformat": 4,
 "nbformat_minor": 5
}
